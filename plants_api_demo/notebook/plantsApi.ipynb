{
 "cells": [
  {
   "cell_type": "code",
   "execution_count": 46,
   "metadata": {},
   "outputs": [],
   "source": [
    "import pandas as pd\n",
    "\n",
    "import cv2\n",
    "import numpy as np\n",
    "import matplotlib.pyplot as plt\n",
    "\n",
    "import geopandas as gdf\n",
    "from shapely.geometry import Point, Polygon\n",
    "\n",
    "\n",
    "\n",
    "%matplotlib inline\n",
    "\n",
    "\n",
    "df_plants = pd.read_excel(open('egrid2016_data.xlsx', 'rb'), sheet_name='PLNT16', header=1,index_col=[0])\n"
   ]
  },
  {
   "cell_type": "code",
   "execution_count": 248,
   "metadata": {},
   "outputs": [
    {
     "name": "stdout",
     "output_type": "stream",
     "text": [
      "Plants percentage 1.54%\n",
      "Plants count : 150\n"
     ]
    },
    {
     "data": {
      "text/plain": [
       "<matplotlib.legend.Legend at 0x7ff89c8d38b0>"
      ]
     },
     "execution_count": 248,
     "metadata": {},
     "output_type": "execute_result"
    },
    {
     "data": {
      "image/png": "[encoded data removed]",
      "text/plain": [
       "<Figure size 432x288 with 1 Axes>"
      ]
     },
     "metadata": {
      "needs_background": "light"
     },
     "output_type": "display_data"
    }
   ],
   "source": [
    "\n",
    "# goup by state\n",
    "\n",
    "state_code = 'AK'\n",
    "pl_by_state_df = df_plants.groupby(\"PSTATABB\")\n",
    "result = pl_by_state_df.get_group(state_code)\n",
    "\n",
    "# state geometry point\n",
    "states_filter = gdf.GeoDataFrame(result, geometry=gdf.points_from_xy(result.LON, result.LAT))\n",
    "\n",
    "\n",
    "\n",
    "# glob geometry point geo frame\n",
    "states = gdf.GeoDataFrame(df_plants, geometry=gdf.points_from_xy(df_plants.LON, df_plants.LAT))\n",
    "\n",
    "\n",
    "states_filter.reset_index(drop=True, inplace=True)\n",
    "states.reset_index(drop=True, inplace=True)\n",
    "\n",
    "\n",
    "\n",
    "percentage = (result[\"PSTATABB\"].count() / len(df_plants)) \n",
    "plants_number = result[\"PSTATABB\"].count()\n",
    "\n",
    "\n",
    "print(\"Plants percentage {:.2%}\".format(percentage))\n",
    "print(\"Plants count :\", plants_number)\n",
    "\n",
    "fig, ax = plt.subplots()\n",
    "\n",
    "polygon_geom = zip(states[\"LON\"].values, states[\"LAT\"].values)\n",
    "x, y = zip(*polygon_geom)\n",
    "\n",
    "plt.scatter(x, y, color=\"gray\")\n",
    "\n",
    "polygon_states = zip(states_filter[\"LON\"].values, states_filter[\"LAT\"].values)\n",
    "x, y = zip(*polygon_states)\n",
    "plt.scatter(x, y , label=\"state of:{0}\".format(state_code),color=\"green\", marker=r'$\\clubsuit$')\n",
    "\n",
    "\n",
    "\n",
    "ax.legend()\n",
    "\n"
   ]
  },
  {
   "cell_type": "code",
   "execution_count": 259,
   "metadata": {
    "scrolled": true
   },
   "outputs": [
    {
     "data": {
      "text/plain": [
       "<matplotlib.legend.Legend at 0x7ff8a0ee9a90>"
      ]
     },
     "execution_count": 259,
     "metadata": {},
     "output_type": "execute_result"
    },
    {
     "data": {
      "image/png": "[encoded data removed]",
      "text/plain": [
       "<Figure size 432x288 with 1 Axes>"
      ]
     },
     "metadata": {
      "needs_background": "light"
     },
     "output_type": "display_data"
    }
   ],
   "source": [
    "# zoom into map\n",
    "# params\n",
    "lat1 = 55.37975;\n",
    "lng1 = -131.470269;\n",
    "      \n",
    "lat2 = 61.1861;\n",
    "lng2 = -151.0356;\n",
    "\n",
    "\n",
    "lat3 = 66.5357;\n",
    "lng3 = -130.2123;\n",
    "\n",
    "lat4 = 80.106432;\n",
    "lng4 = -50.43074;\n",
    "\n",
    "\n",
    "p1 = Point(lng1,lat1)\n",
    "p2 = Point(lng2,lat2)\n",
    "p3 = Point(lng3,lat3)\n",
    "p4=Point(lng4,lat4)\n",
    "\n",
    "points = gdf.GeoDataFrame(geometry=[p1,p2,p3,p4])\n",
    "\n",
    "coords = [p1, p2, p3,p4]\n",
    "\n",
    "poly = Polygon(coords)\n",
    "\n",
    "\n",
    "\n",
    "\n",
    "\n",
    "result_gdf = gdf.sjoin(points,states,  how=\"inner\", op='intersects')\n",
    "\n",
    "\n",
    "fig, ax = plt.subplots()\n",
    "\n",
    "ax.yaxis.set_ticks_position('none')\n",
    "ax.xaxis.set_ticks_position('none')\n",
    "\n",
    "\n",
    "points.plot(ax=ax , color=\"gray\", markersize=20, label=\"searchinf point\")\n",
    "plt.scatter(x, y , label=\"state of:{0}\".format(state_code),color=\"green\", marker=r'$\\clubsuit$')\n",
    "\n",
    "if len(result_gdf):\n",
    "    result_gdf.plot(ax=ax, color=\"pink\", label=\"zoom\",markersize=80 )\n",
    "\n",
    "ax.legend()\n",
    "\n"
   ]
  },
  {
   "cell_type": "code",
   "execution_count": 255,
   "metadata": {},
   "outputs": [
    {
     "data": {
      "text/html": [
       "<div>\n",
       "<style scoped>\n",
       "    .dataframe tbody tr th:only-of-type {\n",
       "        vertical-align: middle;\n",
       "    }\n",
       "\n",
       "    .dataframe tbody tr th {\n",
       "        vertical-align: top;\n",
       "    }\n",
       "\n",
       "    .dataframe thead th {\n",
       "        text-align: right;\n",
       "    }\n",
       "</style>\n",
       "<table border=\"1\" class=\"dataframe\">\n",
       "  <thead>\n",
       "    <tr style=\"text-align: right;\">\n",
       "      <th></th>\n",
       "      <th>geometry</th>\n",
       "      <th>index_right</th>\n",
       "      <th>PSTATABB</th>\n",
       "      <th>PNAME</th>\n",
       "      <th>ORISPL</th>\n",
       "      <th>OPRNAME</th>\n",
       "      <th>OPRCODE</th>\n",
       "      <th>UTLSRVNM</th>\n",
       "      <th>UTLSRVID</th>\n",
       "      <th>BANAME</th>\n",
       "      <th>...</th>\n",
       "      <th>PLWIPR</th>\n",
       "      <th>PLSOPR</th>\n",
       "      <th>PLGTPR</th>\n",
       "      <th>PLOFPR</th>\n",
       "      <th>PLOPPR</th>\n",
       "      <th>PLTNPR</th>\n",
       "      <th>PLTRPR</th>\n",
       "      <th>PLTHPR</th>\n",
       "      <th>PLCYPR</th>\n",
       "      <th>PLCNPR</th>\n",
       "    </tr>\n",
       "  </thead>\n",
       "  <tbody>\n",
       "    <tr>\n",
       "      <th>0</th>\n",
       "      <td>POINT (-131.47027 55.37975)</td>\n",
       "      <td>13</td>\n",
       "      <td>AK</td>\n",
       "      <td>Beaver Falls</td>\n",
       "      <td>6580</td>\n",
       "      <td>Ketchikan Public Utilities</td>\n",
       "      <td>10210</td>\n",
       "      <td>Ketchikan Public Utilities</td>\n",
       "      <td>10210</td>\n",
       "      <td>Alaska Miscellaneous</td>\n",
       "      <td>...</td>\n",
       "      <td>0.0</td>\n",
       "      <td>0.0</td>\n",
       "      <td>0.0</td>\n",
       "      <td>0.0</td>\n",
       "      <td>0.0</td>\n",
       "      <td>0.0</td>\n",
       "      <td>100.0</td>\n",
       "      <td>0.0</td>\n",
       "      <td>0.0</td>\n",
       "      <td>100.0</td>\n",
       "    </tr>\n",
       "    <tr>\n",
       "      <th>1</th>\n",
       "      <td>POINT (-151.03560 61.18610)</td>\n",
       "      <td>14</td>\n",
       "      <td>AK</td>\n",
       "      <td>Beluga</td>\n",
       "      <td>96</td>\n",
       "      <td>Chugach Electric Assn Inc</td>\n",
       "      <td>3522</td>\n",
       "      <td>Chugach Electric Assn Inc</td>\n",
       "      <td>3522</td>\n",
       "      <td>Chugach Electric Assn Inc</td>\n",
       "      <td>...</td>\n",
       "      <td>0.0</td>\n",
       "      <td>0.0</td>\n",
       "      <td>0.0</td>\n",
       "      <td>0.0</td>\n",
       "      <td>0.0</td>\n",
       "      <td>100.0</td>\n",
       "      <td>0.0</td>\n",
       "      <td>0.0</td>\n",
       "      <td>100.0</td>\n",
       "      <td>0.0</td>\n",
       "    </tr>\n",
       "  </tbody>\n",
       "</table>\n",
       "<p>2 rows × 121 columns</p>\n",
       "</div>"
      ],
      "text/plain": [
       "                      geometry  index_right PSTATABB         PNAME  ORISPL  \\\n",
       "0  POINT (-131.47027 55.37975)           13       AK  Beaver Falls    6580   \n",
       "1  POINT (-151.03560 61.18610)           14       AK        Beluga      96   \n",
       "\n",
       "                      OPRNAME  OPRCODE                    UTLSRVNM  UTLSRVID  \\\n",
       "0  Ketchikan Public Utilities    10210  Ketchikan Public Utilities     10210   \n",
       "1   Chugach Electric Assn Inc     3522   Chugach Electric Assn Inc      3522   \n",
       "\n",
       "                      BANAME  ... PLWIPR PLSOPR PLGTPR PLOFPR PLOPPR  PLTNPR  \\\n",
       "0       Alaska Miscellaneous  ...    0.0    0.0    0.0    0.0    0.0     0.0   \n",
       "1  Chugach Electric Assn Inc  ...    0.0    0.0    0.0    0.0    0.0   100.0   \n",
       "\n",
       "   PLTRPR PLTHPR  PLCYPR  PLCNPR  \n",
       "0   100.0    0.0     0.0   100.0  \n",
       "1     0.0    0.0   100.0     0.0  \n",
       "\n",
       "[2 rows x 121 columns]"
      ]
     },
     "execution_count": 255,
     "metadata": {},
     "output_type": "execute_result"
    }
   ],
   "source": [
    "result_gdf"
   ]
  },
  {
   "cell_type": "code",
   "execution_count": 217,
   "metadata": {},
   "outputs": [],
   "source": []
  },
  {
   "cell_type": "code",
   "execution_count": 223,
   "metadata": {},
   "outputs": [],
   "source": []
  },
  {
   "cell_type": "code",
   "execution_count": null,
   "metadata": {},
   "outputs": [],
   "source": []
  }
 ],
 "metadata": {
  "kernelspec": {
   "display_name": "Python 3",
   "language": "python",
   "name": "python3"
  },
  "language_info": {
   "codemirror_mode": {
    "name": "ipython",
    "version": 3
   },
   "file_extension": ".py",
   "mimetype": "text/x-python",
   "name": "python",
   "nbconvert_exporter": "python",
   "pygments_lexer": "ipython3",
   "version": "3.8.5"
  }
 },
 "nbformat": 4,
 "nbformat_minor": 4
}
