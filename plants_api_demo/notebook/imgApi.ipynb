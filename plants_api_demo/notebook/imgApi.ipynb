{
 "cells": [
  {
   "cell_type": "code",
   "execution_count": 2,
   "metadata": {},
   "outputs": [],
   "source": [
    "import pandas as pd\n",
    "from pymongo import MongoClient\n",
    "import cv2\n",
    "import numpy as np\n",
    "import matplotlib.pyplot as plt\n",
    "\n",
    "import json\n",
    "\n",
    "\n",
    "client = MongoClient(host='0.0.0.0',\n",
    "                     port=27017,\n",
    "                     username='root',\n",
    "                     password='pass',\n",
    "                     authSource=\"admin\")\n",
    "mydb = client['imgdb_notebooks']\n",
    "collection = mydb['img']\n"
   ]
  },
  {
   "cell_type": "code",
   "execution_count": 6,
   "metadata": {},
   "outputs": [
    {
     "name": "stdout",
     "output_type": "stream",
     "text": [
      "records sucessufully inserted to db\n"
     ]
    }
   ],
   "source": [
    "### load csv and insert resized img to mongo db \n",
    "data = np.genfromtxt('img.csv', delimiter=',', encoding=None, dtype=None)\n",
    "\n",
    "np_image = data[1:, 1:]\n",
    "depth = data[1:, 0]\n",
    "\n",
    "img_height, img_width = np_image.shape\n",
    "w_resize_to = 150\n",
    "ratio = w_resize_to / img_width\n",
    "new_width = int(img_width * ratio)\n",
    "new_height = int(img_height * ratio)\n",
    "headers = data[0:1, 1:new_width + 1]\n",
    "np_image[np_image == ''] = 0\n",
    "\n",
    "img_resized_db = cv2.resize(np_image.astype(float), (new_width, new_height), interpolation=cv2.INTER_LINEAR)\n",
    "\n",
    "header_col_flat_list = [item for elem in headers.tolist() for item in elem]\n",
    "\n",
    "df_img = pd.DataFrame(data=img_resized_db[0:new_height, 0:new_width], index=depth[:new_height],\n",
    "                              columns=header_col_flat_list)\n",
    "\n",
    "df_img_db = pd.DataFrame(data=df_img, index=depth[:new_height], columns=header_col_flat_list)\n",
    "df_img_db.index.name = 'depth'\n",
    "df_img_db.reset_index(inplace=True)\n",
    "try:\n",
    "    records = df_img_db.to_dict('records')\n",
    "    collection.delete_many({})\n",
    "    collection.insert_many(records)\n",
    "    print(\"records sucessufully inserted to db\")\n",
    "except Exception as e:\n",
    "    print(\"errors on insert\", e)"
   ]
  },
  {
   "cell_type": "code",
   "execution_count": 7,
   "metadata": {
    "scrolled": true
   },
   "outputs": [
    {
     "data": {
      "text/plain": [
       "True"
      ]
     },
     "execution_count": 7,
     "metadata": {},
     "output_type": "execute_result"
    },
    {
     "data": {
      "image/png": "[encoded data removed]",
      "text/plain": [
       "<Figure size 432x288 with 1 Axes>"
      ]
     },
     "metadata": {
      "needs_background": "light"
     },
     "output_type": "display_data"
    }
   ],
   "source": [
    "#load data from mongodb and get img with depth param min,  max and cmap code\n",
    "\n",
    "\n",
    "def get_mpl_colormap(cmap_name):\n",
    "    cmap = plt.get_cmap(cmap_name)\n",
    "    # Initialize the matplotlib color map\n",
    "    sm = plt.cm.ScalarMappable(cmap=cmap)\n",
    "    color_range = sm.to_rgba(np.linspace(0, 1, 256), bytes=True)[:, 2::-1]\n",
    "    return color_range.reshape(256, 1, 3)\n",
    "\n",
    "# depth params\n",
    "depth_max=9109.2\n",
    "depth_min=9000.1\n",
    "cmap = 'bwr'\n",
    "\n",
    "result = collection.find( {} , {'_id': False})\n",
    "\n",
    "df_img_db = pd.DataFrame(data=list(result))\n",
    "\n",
    "df_img_db =df_img_db.set_index('depth')\n",
    "df_img_db['depth'] = df_img_db.index.astype(float)\n",
    "\n",
    "np_img = df_img_db.loc[(df_img_db[\"depth\"] > depth_min) & \n",
    "                       (df_img_db[\"depth\"] < depth_max)] # load frame by dpeth min and max\n",
    "\n",
    "\n",
    "arr8 = np_img.iloc[:,1:].values.astype(np.uint8) \n",
    "image_bgr = cv2.applyColorMap(arr8, get_mpl_colormap(cmap)) # apply color map to frame\n",
    "\n",
    "plt.imshow(image_bgr)\n",
    "cv2.imwrite('img_{0}_{1}.png'.format(depth_min,depth_min), image_bgr)"
   ]
  },
  {
   "cell_type": "code",
   "execution_count": 5,
   "metadata": {},
   "outputs": [
    {
     "data": {
      "text/plain": [
       "True"
      ]
     },
     "execution_count": 5,
     "metadata": {},
     "output_type": "execute_result"
    },
    {
     "data": {
      "image/png": "[encoded data removed]",
      "text/plain": [
       "<Figure size 432x288 with 1 Axes>"
      ]
     },
     "metadata": {
      "needs_background": "light"
     },
     "output_type": "display_data"
    }
   ],
   "source": [
    "\n",
    "# get img from db and apply a color map to it\n",
    "my_data = list(map(lambda x: list(x.values()), collection.find({},{\"_id\":0,\"depth\":0})))\n",
    "\n",
    "result = np.array(my_data)\n",
    "\n",
    "arr8 = (result).astype(np.uint8)\n",
    "image_bgr = cv2.applyColorMap(arr8, get_mpl_colormap(cmap))\n",
    "\n",
    "plt.imshow(image_bgr)\n",
    "cv2.imwrite('img.jpg', image_bgr)"
   ]
  },
  {
   "cell_type": "code",
   "execution_count": null,
   "metadata": {},
   "outputs": [],
   "source": []
  }
 ],
 "metadata": {
  "kernelspec": {
   "display_name": "Python 3",
   "language": "python",
   "name": "python3"
  },
  "language_info": {
   "codemirror_mode": {
    "name": "ipython",
    "version": 3
   },
   "file_extension": ".py",
   "mimetype": "text/x-python",
   "name": "python",
   "nbconvert_exporter": "python",
   "pygments_lexer": "ipython3",
   "version": "3.8.5"
  }
 },
 "nbformat": 4,
 "nbformat_minor": 4
}
